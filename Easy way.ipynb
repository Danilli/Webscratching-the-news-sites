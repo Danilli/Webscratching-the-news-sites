{
  "cells": [
    {
      "cell_type": "code",
      "execution_count": null,
      "id": "568727f1-1c6f-4f63-aed6-e456925e7595",
      "metadata": {
        "id": "568727f1-1c6f-4f63-aed6-e456925e7595",
        "outputId": "811d8558-fb58-4a95-bd00-39c119ceee13",
        "colab": {
          "base_uri": "https://localhost:8080/"
        }
      },
      "outputs": [
        {
          "output_type": "stream",
          "name": "stdout",
          "text": [
            "Looking in indexes: https://pypi.org/simple, https://us-python.pkg.dev/colab-wheels/public/simple/\n",
            "Collecting fake-useragent\n",
            "  Downloading fake_useragent-1.1.3-py3-none-any.whl (50 kB)\n",
            "\u001b[2K     \u001b[90m━━━━━━━━━━━━━━━━━━━━━━━━━━━━━━━━━━━━━━━━\u001b[0m \u001b[32m50.5/50.5 KB\u001b[0m \u001b[31m1.2 MB/s\u001b[0m eta \u001b[36m0:00:00\u001b[0m\n",
            "\u001b[?25hRequirement already satisfied: importlib-resources>=5.0 in /usr/local/lib/python3.9/dist-packages (from fake-useragent) (5.12.0)\n",
            "Requirement already satisfied: zipp>=3.1.0 in /usr/local/lib/python3.9/dist-packages (from importlib-resources>=5.0->fake-useragent) (3.15.0)\n",
            "Installing collected packages: fake-useragent\n",
            "Successfully installed fake-useragent-1.1.3\n",
            "Looking in indexes: https://pypi.org/simple, https://us-python.pkg.dev/colab-wheels/public/simple/\n",
            "Requirement already satisfied: tqdm in /usr/local/lib/python3.9/dist-packages (4.65.0)\n",
            "Looking in indexes: https://pypi.org/simple, https://us-python.pkg.dev/colab-wheels/public/simple/\n",
            "Collecting newspaper3k\n",
            "  Downloading newspaper3k-0.2.8-py3-none-any.whl (211 kB)\n",
            "\u001b[2K     \u001b[90m━━━━━━━━━━━━━━━━━━━━━━━━━━━━━━━━━━━━━━━\u001b[0m \u001b[32m211.1/211.1 KB\u001b[0m \u001b[31m8.0 MB/s\u001b[0m eta \u001b[36m0:00:00\u001b[0m\n",
            "\u001b[?25hRequirement already satisfied: beautifulsoup4>=4.4.1 in /usr/local/lib/python3.9/dist-packages (from newspaper3k) (4.11.2)\n",
            "Collecting tldextract>=2.0.1\n",
            "  Downloading tldextract-3.4.0-py3-none-any.whl (93 kB)\n",
            "\u001b[2K     \u001b[90m━━━━━━━━━━━━━━━━━━━━━━━━━━━━━━━━━━━━━━━━\u001b[0m \u001b[32m93.9/93.9 KB\u001b[0m \u001b[31m10.1 MB/s\u001b[0m eta \u001b[36m0:00:00\u001b[0m\n",
            "\u001b[?25hCollecting feedfinder2>=0.0.4\n",
            "  Downloading feedfinder2-0.0.4.tar.gz (3.3 kB)\n",
            "  Preparing metadata (setup.py) ... \u001b[?25l\u001b[?25hdone\n",
            "Collecting tinysegmenter==0.3\n",
            "  Downloading tinysegmenter-0.3.tar.gz (16 kB)\n",
            "  Preparing metadata (setup.py) ... \u001b[?25l\u001b[?25hdone\n",
            "Requirement already satisfied: PyYAML>=3.11 in /usr/local/lib/python3.9/dist-packages (from newspaper3k) (6.0)\n",
            "Collecting cssselect>=0.9.2\n",
            "  Downloading cssselect-1.2.0-py2.py3-none-any.whl (18 kB)\n",
            "Requirement already satisfied: Pillow>=3.3.0 in /usr/local/lib/python3.9/dist-packages (from newspaper3k) (8.4.0)\n",
            "Requirement already satisfied: requests>=2.10.0 in /usr/local/lib/python3.9/dist-packages (from newspaper3k) (2.27.1)\n",
            "Collecting feedparser>=5.2.1\n",
            "  Downloading feedparser-6.0.10-py3-none-any.whl (81 kB)\n",
            "\u001b[2K     \u001b[90m━━━━━━━━━━━━━━━━━━━━━━━━━━━━━━━━━━━━━━━━\u001b[0m \u001b[32m81.1/81.1 KB\u001b[0m \u001b[31m10.2 MB/s\u001b[0m eta \u001b[36m0:00:00\u001b[0m\n",
            "\u001b[?25hRequirement already satisfied: python-dateutil>=2.5.3 in /usr/local/lib/python3.9/dist-packages (from newspaper3k) (2.8.2)\n",
            "Collecting jieba3k>=0.35.1\n",
            "  Downloading jieba3k-0.35.1.zip (7.4 MB)\n",
            "\u001b[2K     \u001b[90m━━━━━━━━━━━━━━━━━━━━━━━━━━━━━━━━━━━━━━━━\u001b[0m \u001b[32m7.4/7.4 MB\u001b[0m \u001b[31m80.6 MB/s\u001b[0m eta \u001b[36m0:00:00\u001b[0m\n",
            "\u001b[?25h  Preparing metadata (setup.py) ... \u001b[?25l\u001b[?25hdone\n",
            "Requirement already satisfied: nltk>=3.2.1 in /usr/local/lib/python3.9/dist-packages (from newspaper3k) (3.8.1)\n",
            "Requirement already satisfied: lxml>=3.6.0 in /usr/local/lib/python3.9/dist-packages (from newspaper3k) (4.9.2)\n",
            "Requirement already satisfied: soupsieve>1.2 in /usr/local/lib/python3.9/dist-packages (from beautifulsoup4>=4.4.1->newspaper3k) (2.4)\n",
            "Requirement already satisfied: six in /usr/local/lib/python3.9/dist-packages (from feedfinder2>=0.0.4->newspaper3k) (1.16.0)\n",
            "Collecting sgmllib3k\n",
            "  Downloading sgmllib3k-1.0.0.tar.gz (5.8 kB)\n",
            "  Preparing metadata (setup.py) ... \u001b[?25l\u001b[?25hdone\n",
            "Requirement already satisfied: joblib in /usr/local/lib/python3.9/dist-packages (from nltk>=3.2.1->newspaper3k) (1.1.1)\n",
            "Requirement already satisfied: regex>=2021.8.3 in /usr/local/lib/python3.9/dist-packages (from nltk>=3.2.1->newspaper3k) (2022.10.31)\n",
            "Requirement already satisfied: click in /usr/local/lib/python3.9/dist-packages (from nltk>=3.2.1->newspaper3k) (8.1.3)\n",
            "Requirement already satisfied: tqdm in /usr/local/lib/python3.9/dist-packages (from nltk>=3.2.1->newspaper3k) (4.65.0)\n",
            "Requirement already satisfied: certifi>=2017.4.17 in /usr/local/lib/python3.9/dist-packages (from requests>=2.10.0->newspaper3k) (2022.12.7)\n",
            "Requirement already satisfied: urllib3<1.27,>=1.21.1 in /usr/local/lib/python3.9/dist-packages (from requests>=2.10.0->newspaper3k) (1.26.15)\n",
            "Requirement already satisfied: charset-normalizer~=2.0.0 in /usr/local/lib/python3.9/dist-packages (from requests>=2.10.0->newspaper3k) (2.0.12)\n",
            "Requirement already satisfied: idna<4,>=2.5 in /usr/local/lib/python3.9/dist-packages (from requests>=2.10.0->newspaper3k) (3.4)\n",
            "Requirement already satisfied: filelock>=3.0.8 in /usr/local/lib/python3.9/dist-packages (from tldextract>=2.0.1->newspaper3k) (3.10.1)\n",
            "Collecting requests-file>=1.4\n",
            "  Downloading requests_file-1.5.1-py2.py3-none-any.whl (3.7 kB)\n",
            "Building wheels for collected packages: tinysegmenter, feedfinder2, jieba3k, sgmllib3k\n",
            "  Building wheel for tinysegmenter (setup.py) ... \u001b[?25l\u001b[?25hdone\n",
            "  Created wheel for tinysegmenter: filename=tinysegmenter-0.3-py3-none-any.whl size=13552 sha256=115f9df7c966b469d2d4a23ba532ae514fa99ac02aea7707e3390446a2ee2e89\n",
            "  Stored in directory: /root/.cache/pip/wheels/94/ad/df/a2a01300cea47d5695f242f7e925a805970106fd9e4b151468\n",
            "  Building wheel for feedfinder2 (setup.py) ... \u001b[?25l\u001b[?25hdone\n",
            "  Created wheel for feedfinder2: filename=feedfinder2-0.0.4-py3-none-any.whl size=3356 sha256=b305a0b45fca1c97aebb15853d5206f0a1a2de2e6700476cb3c472855d16d818\n",
            "  Stored in directory: /root/.cache/pip/wheels/43/4a/c2/61a371b2524ac90805391c660d8dc4505705297f25e2b85a5d\n",
            "  Building wheel for jieba3k (setup.py) ... \u001b[?25l\u001b[?25hdone\n",
            "  Created wheel for jieba3k: filename=jieba3k-0.35.1-py3-none-any.whl size=7398404 sha256=8cc876e6ba11c2cf435203c886b8a35411949f618b94ca0c78f702b094c73b35\n",
            "  Stored in directory: /root/.cache/pip/wheels/c2/22/59/8214a8d6357e9f540ce1f37f9a4362b6156b4ca81b37f1945f\n",
            "  Building wheel for sgmllib3k (setup.py) ... \u001b[?25l\u001b[?25hdone\n",
            "  Created wheel for sgmllib3k: filename=sgmllib3k-1.0.0-py3-none-any.whl size=6065 sha256=e29b4359a6caab280ce0afa2807391bb475a45e0bd53980a7394ba39f11b8822\n",
            "  Stored in directory: /root/.cache/pip/wheels/65/7a/a7/78c287f64e401255dff4c13fdbc672fed5efbfd21c530114e1\n",
            "Successfully built tinysegmenter feedfinder2 jieba3k sgmllib3k\n",
            "Installing collected packages: tinysegmenter, sgmllib3k, jieba3k, feedparser, cssselect, requests-file, feedfinder2, tldextract, newspaper3k\n",
            "Successfully installed cssselect-1.2.0 feedfinder2-0.0.4 feedparser-6.0.10 jieba3k-0.35.1 newspaper3k-0.2.8 requests-file-1.5.1 sgmllib3k-1.0.0 tinysegmenter-0.3 tldextract-3.4.0\n"
          ]
        }
      ],
      "source": [
        "# Установка необходимых модулей, которых нет в базовой версии Пайтона\n",
        "!pip install fake-useragent\n",
        "!pip install tqdm\n",
        "!pip install newspaper3k # Обычный newspaper не устанавливался. Это близки аналог. Найден тута:  https://newscatcherapi.com/blog/python-web-scraping-libraries-to-mine-news-data"
      ]
    },
    {
      "cell_type": "code",
      "execution_count": null,
      "id": "7cf08ee3-b4d7-4231-ac78-74e2604286bc",
      "metadata": {
        "id": "7cf08ee3-b4d7-4231-ac78-74e2604286bc"
      },
      "outputs": [],
      "source": [
        "# Модуль для скачивания новостей\n",
        "import newspaper\n",
        "\n",
        "#Поможет замаскироваться под обычного пользователя в Интернете\n",
        "from fake_useragent import UserAgent \n",
        "\n",
        "#Переменные, нужные, чтобы маскироваться под обычного пользователя Интернета\n",
        "ua = UserAgent(verify_ssl=False)\n",
        "headers = {'User-Agent': ua.random}"
      ]
    },
    {
      "cell_type": "code",
      "source": [
        "# Создаём список со ссылками на необходимые страницы\n",
        "urls = [\"https://gtrkamur.ru/news/2023/03/23/293458\",\n",
        "        \"https://gtrkamur.ru/news/2023/03/25/293834\",\n",
        "        \"https://gtrkamur.ru/news/2023/03/24/293680\"]\n",
        "\n",
        "parsed_news = [] \n",
        "\n",
        "#  Методы работы с newspaper отсюда:  https://newscatcherapi.com/blog/python-web-scraping-libraries-to-mine-news-data\n",
        "for url in urls:\n",
        "  article = newspaper.Article(url=url, language='ru')\n",
        "  article.download()\n",
        "  article.parse()\n",
        "  parsed_news.append(article)\n",
        "\n",
        "# Проверяем, что парс данных прошёл успешно\n",
        "parsed_news[0].is_parsed "
      ],
      "metadata": {
        "id": "OlumNIPQtzgk",
        "colab": {
          "base_uri": "https://localhost:8080/"
        },
        "outputId": "c7e9cbca-07ba-4a59-b18c-8340f661f89a"
      },
      "id": "OlumNIPQtzgk",
      "execution_count": null,
      "outputs": [
        {
          "output_type": "execute_result",
          "data": {
            "text/plain": [
              "True"
            ]
          },
          "metadata": {},
          "execution_count": 7
        }
      ]
    },
    {
      "cell_type": "code",
      "execution_count": null,
      "id": "4c5550b4-406c-4890-92d0-18dabdfa715f",
      "metadata": {
        "id": "4c5550b4-406c-4890-92d0-18dabdfa715f",
        "colab": {
          "base_uri": "https://localhost:8080/"
        },
        "outputId": "435f0f28-028c-4b5b-c60c-5e39574d201b"
      },
      "outputs": [
        {
          "output_type": "stream",
          "name": "stdout",
          "text": [
            "ЗАГОЛОВОК:\n",
            "Библиотеку в Дмитриевке обновят по нацпроекту «Культура»\n",
            "ТЕКСТ:\n",
            "К августу текущего года еще одна библиотека Ивановского округа станет модельной. Ее ждет полная модернизация. На это выделено 7,5 миллионов рублей.\n",
            "\n",
            "Там проведут косметический ремонт и организуют тематические зоны, где можно будет читать книги и периодику, работать, проводить мероприятия и отдыхать, получать доступ к электронным изданиям. После преобразований библиотека станет центром краеведческой работы «ИСТОК»: И — информация, С — сотрудничество, Т — творчество, О — образование, К — краеведение.\n",
            "\n",
            "В 2022 году в округе по нацпроекту уже были обновлены три учреждения культуры в Черемхове, Петропавловке и Среднебелой. В этом году к модельным стандартам приведут библиотеки в Благовещенске, Варваровке, Дмитриевке, Магдагачи, Анновке, Свободном, Грибском, Ромнах и Бурее, напоминает пресс-служба областного правительства.\n",
            "\n",
            "Смотрим \"Вести - Амурская область\": smotrim.ru/amur. Подписывайтесь на наши страницы в соцсетях: Telegram, ВКонтакте, Одноклассники, Дзен.\n",
            "ДАТА:\n",
            "2023-03-23 00:00:00\n",
            "\n",
            "\n",
            "\n",
            "ЗАГОЛОВОК:\n",
            "До +10 градусов: погода в Приамурье на 25 марта\n",
            "ТЕКСТ:\n",
            "Завтра, 26 марта, в области ожидается переменная погода, преимущественно без осадков. Западный и юго-западный ветер ночью будет дуть со скоростью до шести метров в секунду, днем – до девяти.\n",
            "\n",
            "Температура воздуха в темное время суток на севере опустится до минус 15 градусов, по крайним районам – до 22 градусов мороза, на юге – до 13 градусов ниже нуля. Днем столбики термометров поднимутся вверх до плюс девяти градусов, местами по северу сохранятся минусовые температуры – до минус трех.\n",
            "\n",
            "В Благовещенске осадков не предвидится. Ветер юго-западного направления подует со скоростью до восьми метров в секунду. Ночью воздух охладится до минус девяти градусов, днем – до десяти градусов со знаком плюс, сообщают синоптики амурского гидрометцентра.\n",
            "\n",
            "Смотрим \"Вести - Амурская область\": smotrim.ru/amur. Подписывайтесь на наши страницы в соцсетях: Telegram, ВКонтакте, Одноклассники, Дзен.\n",
            "ДАТА:\n",
            "2023-03-25 00:00:00\n",
            "\n",
            "\n",
            "\n",
            "ЗАГОЛОВОК:\n",
            "Количество киберпреступлений выросло в Приамурье\n",
            "ТЕКСТ:\n",
            "Вопреки всем предостережениям доверчивые амурчане по-прежнему поддаются на уловки дистанционных мошенников. Более 700 таких преступлений зафиксировано только за 2 месяца этого года. На треть больше, чем за такой же период прошлого.\n",
            "\n",
            "По данным УМВД, на киберобманы приходится свыше трети всех преступлений по области. Причем разоблачить злоумышленников практически невозможно. В Приамурье поступают звонки из разных регионов России и других стран. Мошенники представляются работниками банков, правоохранительных органов, родственниками, которые попали в беду. Действуют через сайты объявлений, вынуждая перевести им предоплату за несуществующий товар. В последнее время злоумышленники часто выдают себя за сотрудников инвестиционных компаний. На днях амурчанин перевел им почти миллион.\n",
            "\n",
            "«Если вас по телефону просят совершить какие-то манипуляции с вашими деньгами, счетами, с вашими телефонами, просят установить какие-либо приложения на телефон, сразу отключайтесь. Перезванивайте по номеру, указанному на обратной стороне ваших банковских карт, чтобы проверить, действительно ли происходят какие-то манипуляции с вашими деньгами», — сказал заместитель начальника отдела управления уголовного розыска УМВД по Амурской области Юрий Качан.\n",
            "\n",
            "Смотрим \"Вести - Амурская область\": smotrim.ru/amur. Подписывайтесь на наши страницы в соцсетях: Telegram, ВКонтакте, Одноклассники, Дзен.\n",
            "ДАТА:\n",
            "2023-03-24 00:00:00\n",
            "\n",
            "\n",
            "\n"
          ]
        }
      ],
      "source": [
        "for news in parsed_news:\n",
        "  print(\"ЗАГОЛОВОК:\\n\" + news.title, \"ТЕКСТ:\\n\" + news.text, \"ДАТА:\\n\" + str(news.publish_date), sep = \"\\n\", end = \"\\n\\n\\n\\n\")"
      ]
    },
    {
      "cell_type": "code",
      "execution_count": null,
      "id": "348fc3f3-e4ed-4e51-ad5e-d641f793b18e",
      "metadata": {
        "id": "348fc3f3-e4ed-4e51-ad5e-d641f793b18e"
      },
      "outputs": [],
      "source": []
    },
    {
      "cell_type": "code",
      "execution_count": null,
      "id": "e300b0a8-a475-42af-acaf-b224a2f77345",
      "metadata": {
        "id": "e300b0a8-a475-42af-acaf-b224a2f77345"
      },
      "outputs": [],
      "source": []
    },
    {
      "cell_type": "code",
      "execution_count": null,
      "id": "234f596a-fe18-4bd6-81f7-99346dc69d9b",
      "metadata": {
        "id": "234f596a-fe18-4bd6-81f7-99346dc69d9b"
      },
      "outputs": [],
      "source": []
    },
    {
      "cell_type": "code",
      "execution_count": null,
      "id": "6d6e2e13-7421-488e-b7c2-55ebe05869fc",
      "metadata": {
        "id": "6d6e2e13-7421-488e-b7c2-55ebe05869fc"
      },
      "outputs": [],
      "source": []
    },
    {
      "cell_type": "code",
      "execution_count": null,
      "id": "2fa79fb4-984b-48c9-b1ed-8f43d02d6603",
      "metadata": {
        "id": "2fa79fb4-984b-48c9-b1ed-8f43d02d6603"
      },
      "outputs": [],
      "source": []
    },
    {
      "cell_type": "code",
      "execution_count": null,
      "id": "6c984f0b-565d-4ec0-be7f-57d7f22ccf55",
      "metadata": {
        "id": "6c984f0b-565d-4ec0-be7f-57d7f22ccf55"
      },
      "outputs": [],
      "source": []
    }
  ],
  "metadata": {
    "kernelspec": {
      "display_name": "Python 3 (ipykernel)",
      "language": "python",
      "name": "python3"
    },
    "language_info": {
      "codemirror_mode": {
        "name": "ipython",
        "version": 3
      },
      "file_extension": ".py",
      "mimetype": "text/x-python",
      "name": "python",
      "nbconvert_exporter": "python",
      "pygments_lexer": "ipython3",
      "version": "3.9.12"
    },
    "colab": {
      "provenance": []
    }
  },
  "nbformat": 4,
  "nbformat_minor": 5
}