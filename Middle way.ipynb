{
 "cells": [
  {
   "cell_type": "code",
   "execution_count": 53,
   "id": "059d65c7-ec93-4f63-bc2a-fadbc3fc2217",
   "metadata": {},
   "outputs": [
    {
     "name": "stdout",
     "output_type": "stream",
     "text": [
      "Requirement already satisfied: fake-useragent in c:\\users\\jjeym\\anaconda3\\lib\\site-packages (1.1.3)\n",
      "Requirement already satisfied: importlib-resources>=5.0 in c:\\users\\jjeym\\anaconda3\\lib\\site-packages (from fake-useragent) (5.12.0)\n",
      "Requirement already satisfied: zipp>=3.1.0 in c:\\users\\jjeym\\anaconda3\\lib\\site-packages (from importlib-resources>=5.0->fake-useragent) (3.7.0)\n",
      "Requirement already satisfied: tqdm in c:\\users\\jjeym\\anaconda3\\lib\\site-packages (4.64.0)\n",
      "Requirement already satisfied: colorama in c:\\users\\jjeym\\anaconda3\\lib\\site-packages (from tqdm) (0.4.4)\n"
     ]
    }
   ],
   "source": [
    "#Скачиваем необходимые модули Питона\n",
    "!pip install fake-useragent\n",
    "!pip install tqdm"
   ]
  },
  {
   "cell_type": "code",
   "execution_count": 95,
   "id": "439cd852-f2b1-4c40-baa8-681d8974ba58",
   "metadata": {},
   "outputs": [],
   "source": [
    "#Собственно выкачивание файлов из Интернета\n",
    "import requests\n",
    "\n",
    "#Модуль для работы с HTML-файлами\n",
    "from bs4 import BeautifulSoup\n",
    "\n",
    "#Работа с таблицами — понадобится, чтобы хранить наш корпус\n",
    "import pandas as pd\n",
    "\n",
    "#Поможет замаскироваться под обычного пользователя в Интернете\n",
    "from fake_useragent import UserAgent \n",
    "\n",
    "#Переменные, нужные, чтобы маскироваться под обычного пользователя Интернета\n",
    "ua = UserAgent(verify_ssl=False)\n",
    "headers = {'User-Agent': ua.random}"
   ]
  },
  {
   "cell_type": "code",
   "execution_count": 96,
   "id": "135d132c-0510-4f5e-8881-9d7312d7f833",
   "metadata": {},
   "outputs": [
    {
     "data": {
      "text/plain": [
       "[<Response [200]>, <Response [200]>, <Response [200]>]"
      ]
     },
     "execution_count": 96,
     "metadata": {},
     "output_type": "execute_result"
    }
   ],
   "source": [
    "#Кортеж из трёх новостей\n",
    "news_links = ('https://www.zvportal.ru/index.php/2010-11-20-05-58-23-16/34-2010-11-20-06-29-25/15650-vremya-podumat', \n",
    "              'https://www.zvportal.ru/index.php/2010-11-20-05-58-23-27/72-2010-11-20-06-48-43/15643-byudzhet-uvelichen', \n",
    "              \"https://www.zvportal.ru/index.php/2010-11-20-05-58-23-13/17-2010-11-20-06-11-2816/15662-musor-ne-projdjot\")\n",
    "\n",
    "#Создаём список из всех ответов сайта\n",
    "requests_list = []\n",
    "for link in news_links:\n",
    "    req = requests.get(link, headers=headers)\n",
    "    requests_list.append(req)\n",
    "    \n",
    "requests_list"
   ]
  },
  {
   "cell_type": "code",
   "execution_count": 97,
   "id": "646b5250-c0af-42cf-a466-349bcf283528",
   "metadata": {},
   "outputs": [
    {
     "data": {
      "text/plain": [
       "<div class=\"item-page\"><article class=\"art-post\"><h2 class=\"art-postheader\">Время подумать</h2><div class=\"art-postheadericons art-metadata-icons\"><span class=\"art-postdateicon\">Создано 15.03.2023 05:21</span> | <span class=\"art-postdateicon\">Обновлено 15.03.2023 05:25</span> | <span class=\"art-postauthoricon\">Автор: Марина Остащук</span> | <a href=\"/index.php/2010-11-20-05-58-23-16/34-2010-11-20-06-29-25/15650-vremya-podumat?tmpl=component&amp;print=1&amp;layout=default&amp;page=\" onclick=\"window.open(this.href,'win2','status=no,toolbar=no,scrollbars=yes,titlebar=no,menubar=no,resizable=yes,width=640,height=480,directories=no,location=no'); return false;\" rel=\"nofollow\" title=\"Печать\"><img alt=\"Печать\" src=\"/templates/zvportal_old_fashion/images/system/printButton.png\"/></a> | Просмотров: 39</div><div class=\"art-postcontent clearfix\"><div class=\"art-article\"><p>«Мы на месяц закрываем амурские дороги для большегрузов. Это необходимо, чтобы избежать разрушения трасс. Весной, когда грунт под дорогами оттаивает, тяжёлые грузовики могут нанести им большой вред. С 1 апреля ограничения начнут действовать в южных районах, а на севере – с 15 апреля. </p>\n",
       "<p>У предприятий и грузоперевозчиков есть время продумать свои маршруты, чтобы избежать простоев на производстве. Ограничения не затронут пассажирские автобусы и сельхозтехнику, которая задействована на весенне-полевых работах», – сказал губернатор Приамурья Василий Орлов.</p>\n",
       "<p>Министерством транспорта и дорожного хозяйства Амурской области планируется введение ограничений движения транспортных средств общей массой более 12 тонн на дорогах регионального значения в период с 15 апреля по 14 мая 2023 года: Заречное – Сиан (от 0 до 41,7 км), Зея – Золотая Гора (от 0 до 83,7 км), Зея – Снежногорский (от 0 до 20 км), Зея – Тыгда (от 0 до 102,8 км).</p>\n",
       "<p>Администрация Зейского района планирует введение аналогичных ограничений на дорогах местного значения в период с 1 по 30 мая: Зея – Снежногорский, Береговой – Кировский – Золотая Гора, от 60 км а/д Зея-Снежногорский до п. Огорон, Юбилейный – Октябрьский.</p>\n",
       "<p style=\"text-align: right;\"><strong>Марина Остащук.</strong></p>\n",
       "<p></p>\n",
       "<p> </p></div><div>\n",
       "<p><i>\"Зейские Вести Сегодня\" © Использование материалов сайта допустимо с указанием ссылки на источник </i></p>\n",
       "<div>\n",
       "</div>\n",
       "<div>\n",
       "<script charset=\"utf-8\" src=\"//yandex.st/share/share.js\" type=\"text/javascript\"></script>\n",
       "<script charset=\"utf-8\" src=\"//yandex.st/share/share.js\" type=\"text/javascript\"></script>\n",
       "<div class=\"yashare-auto-init\" data-yasharel10n=\"ru\" data-yasharequickservices=\"yaru,vkontakte,facebook,twitter,odnoklassniki,moimir,lj\" data-yasharetype=\"button\"></div>\n",
       "</div>\n",
       "</div></div></article></div>"
      ]
     },
     "execution_count": 97,
     "metadata": {},
     "output_type": "execute_result"
    }
   ],
   "source": [
    "#Создаём список из \"супов\"\n",
    "bodys_list = []\n",
    "\n",
    "for req in requests_list:\n",
    "    #Просим модуль проанализировать наш файл\n",
    "    soup = BeautifulSoup(req.text, 'html.parser')\n",
    "    #Ищем\n",
    "    body_soup = soup.find(\"div\", class_=\"item-page\")\n",
    "    bodys_list.append(body_soup)\n",
    "\n",
    "bodys_list[0]"
   ]
  },
  {
   "cell_type": "code",
   "execution_count": 98,
   "id": "c9926e4f-c6c4-4405-aa6d-b3c0493db13d",
   "metadata": {},
   "outputs": [
    {
     "data": {
      "text/plain": [
       "'«Мы на месяц закрываем амурские дороги для большегрузов. Это необходимо, чтобы избежать разрушения трасс. Весной, когда грунт под дорогами оттаивает, тяжёлые грузовики могут нанести им большой вред. С 1 апреля ограничения начнут действовать в южных районах, а на севере – с 15 апреля.У предприятий и грузоперевозчиков есть время продумать свои маршруты, чтобы избежать простоев на производстве. Ограничения не затронут пассажирские автобусы и сельхозтехнику, которая задействована на весенне-полевых работах», – сказал губернатор Приамурья Василий Орлов.Министерством транспорта и дорожного хозяйства Амурской области планируется введение ограничений движения транспортных средств общей массой более 12 тонн на дорогах регионального значения в период с 15 апреля по 14 мая 2023 года: Заречное – Сиан (от 0 до 41,7 км), Зея – Золотая Гора (от 0 до 83,7 км), Зея – Снежногорский (от 0 до 20 км), Зея – Тыгда (от 0 до 102,8 км).Администрация Зейского района планирует введение аналогичных ограничений на дорогах местного значения в период с 1 по 30 мая: Зея – Снежногорский, Береговой – Кировский – Золотая Гора, от 60 км а/д Зея-Снежногорский до п. Огорон, Юбилейный – Октябрьский.Марина Остащук.\"Зейские Вести Сегодня\" © Использование материалов сайта допустимо с указанием ссылки на источник'"
      ]
     },
     "execution_count": 98,
     "metadata": {},
     "output_type": "execute_result"
    }
   ],
   "source": [
    "#Создаём список текстов\n",
    "textes_news = []\n",
    "\n",
    "for body in bodys_list:\n",
    "    cher_news = \"\"\n",
    "    for p in body.find_all(\"p\"): \n",
    "        cher_news += p.text.strip() \n",
    "    textes_news.append(cher_news)\n",
    "    \n",
    "textes_news[0]"
   ]
  },
  {
   "cell_type": "code",
   "execution_count": 99,
   "id": "4cf0159d-1ac3-490b-b5b4-8c671f23617a",
   "metadata": {},
   "outputs": [
    {
     "data": {
      "text/plain": [
       "['Время подумать', 'Бюджет увеличен', 'Мусор не пройдёт!']"
      ]
     },
     "execution_count": 99,
     "metadata": {},
     "output_type": "execute_result"
    }
   ],
   "source": [
    "#Создаём список заголовков\n",
    "headers_news = []\n",
    "\n",
    "for body in bodys_list:\n",
    "    head_news = body.find(\"h2\").text.strip()\n",
    "    headers_news.append(head_news)\n",
    "    \n",
    "headers_news"
   ]
  },
  {
   "cell_type": "code",
   "execution_count": 100,
   "id": "e67051d9-67f0-4b31-bd56-9399c645df15",
   "metadata": {},
   "outputs": [
    {
     "data": {
      "text/plain": [
       "['15.03.2023 05:21', '10.03.2023 01:17', '17.03.2023 06:46']"
      ]
     },
     "execution_count": 100,
     "metadata": {},
     "output_type": "execute_result"
    }
   ],
   "source": [
    "#Создаём список дат\n",
    "dates_news = []\n",
    "\n",
    "for body in bodys_list:\n",
    "    data_news = body.find(\"span\", class_ = \"art-postdateicon\").text.strip()\n",
    "    dates_news.append(data_news[8:])\n",
    "    \n",
    "dates_news\n"
   ]
  },
  {
   "cell_type": "code",
   "execution_count": 101,
   "id": "5a5530b3-6a66-494c-a29e-d4d34e1dae4f",
   "metadata": {},
   "outputs": [
    {
     "data": {
      "text/html": [
       "<div>\n",
       "<style scoped>\n",
       "    .dataframe tbody tr th:only-of-type {\n",
       "        vertical-align: middle;\n",
       "    }\n",
       "\n",
       "    .dataframe tbody tr th {\n",
       "        vertical-align: top;\n",
       "    }\n",
       "\n",
       "    .dataframe thead th {\n",
       "        text-align: right;\n",
       "    }\n",
       "</style>\n",
       "<table border=\"1\" class=\"dataframe\">\n",
       "  <thead>\n",
       "    <tr style=\"text-align: right;\">\n",
       "      <th></th>\n",
       "      <th>title</th>\n",
       "      <th>date</th>\n",
       "      <th>text</th>\n",
       "      <th>link</th>\n",
       "    </tr>\n",
       "  </thead>\n",
       "  <tbody>\n",
       "    <tr>\n",
       "      <th>0</th>\n",
       "      <td>Время подумать</td>\n",
       "      <td>15.03.2023 05:21</td>\n",
       "      <td>«Мы на месяц закрываем амурские дороги для бол...</td>\n",
       "      <td>https://www.zvportal.ru/index.php/2010-11-20-0...</td>\n",
       "    </tr>\n",
       "    <tr>\n",
       "      <th>1</th>\n",
       "      <td>Бюджет увеличен</td>\n",
       "      <td>10.03.2023 01:17</td>\n",
       "      <td>3 марта на очередной сессии Зейского районного...</td>\n",
       "      <td>https://www.zvportal.ru/index.php/2010-11-20-0...</td>\n",
       "    </tr>\n",
       "    <tr>\n",
       "      <th>2</th>\n",
       "      <td>Мусор не пройдёт!</td>\n",
       "      <td>17.03.2023 06:46</td>\n",
       "      <td>Региональный оператор города Зеи и Зейского ра...</td>\n",
       "      <td>https://www.zvportal.ru/index.php/2010-11-20-0...</td>\n",
       "    </tr>\n",
       "  </tbody>\n",
       "</table>\n",
       "</div>"
      ],
      "text/plain": [
       "               title              date  \\\n",
       "0     Время подумать  15.03.2023 05:21   \n",
       "1    Бюджет увеличен  10.03.2023 01:17   \n",
       "2  Мусор не пройдёт!  17.03.2023 06:46   \n",
       "\n",
       "                                                text  \\\n",
       "0  «Мы на месяц закрываем амурские дороги для бол...   \n",
       "1  3 марта на очередной сессии Зейского районного...   \n",
       "2  Региональный оператор города Зеи и Зейского ра...   \n",
       "\n",
       "                                                link  \n",
       "0  https://www.zvportal.ru/index.php/2010-11-20-0...  \n",
       "1  https://www.zvportal.ru/index.php/2010-11-20-0...  \n",
       "2  https://www.zvportal.ru/index.php/2010-11-20-0...  "
      ]
     },
     "execution_count": 101,
     "metadata": {},
     "output_type": "execute_result"
    }
   ],
   "source": [
    "#Добавляем в особую табличку тексты\n",
    "\n",
    "corpus = pd.DataFrame({'title': headers_news,\n",
    "                       'date': dates_news,\n",
    "                       'text': textes_news,  \n",
    "                       'link': news_links})\n",
    "corpus"
   ]
  },
  {
   "cell_type": "code",
   "execution_count": null,
   "id": "0830ae0f-c898-44a3-87d1-b2f435f4a54f",
   "metadata": {},
   "outputs": [],
   "source": []
  },
  {
   "cell_type": "code",
   "execution_count": null,
   "id": "04ff972f-a671-4c6b-92d4-918f10e7ffcb",
   "metadata": {},
   "outputs": [],
   "source": []
  }
 ],
 "metadata": {
  "kernelspec": {
   "display_name": "Python 3 (ipykernel)",
   "language": "python",
   "name": "python3"
  },
  "language_info": {
   "codemirror_mode": {
    "name": "ipython",
    "version": 3
   },
   "file_extension": ".py",
   "mimetype": "text/x-python",
   "name": "python",
   "nbconvert_exporter": "python",
   "pygments_lexer": "ipython3",
   "version": "3.9.12"
  }
 },
 "nbformat": 4,
 "nbformat_minor": 5
}
