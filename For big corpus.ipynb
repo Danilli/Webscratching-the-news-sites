{
 "cells": [
  {
   "cell_type": "code",
   "execution_count": 10,
   "id": "cad871ee-62b2-4719-ab51-587cef2e6d3f",
   "metadata": {},
   "outputs": [
    {
     "name": "stdout",
     "output_type": "stream",
     "text": [
      "Requirement already satisfied: fake-useragent in c:\\users\\jjeym\\anaconda3\\lib\\site-packages (1.1.3)\n",
      "Requirement already satisfied: importlib-resources>=5.0 in c:\\users\\jjeym\\anaconda3\\lib\\site-packages (from fake-useragent) (5.12.0)\n",
      "Requirement already satisfied: zipp>=3.1.0 in c:\\users\\jjeym\\anaconda3\\lib\\site-packages (from importlib-resources>=5.0->fake-useragent) (3.7.0)\n",
      "Requirement already satisfied: tqdm in c:\\users\\jjeym\\anaconda3\\lib\\site-packages (4.64.0)\n",
      "Requirement already satisfied: colorama in c:\\users\\jjeym\\anaconda3\\lib\\site-packages (from tqdm) (0.4.4)\n"
     ]
    }
   ],
   "source": [
    "#Скачиваем пакеты, которых нет в стандартной библиотеке Python\n",
    "!pip install fake-useragent\n",
    "!pip install tqdm"
   ]
  },
  {
   "cell_type": "code",
   "execution_count": 10,
   "id": "23cb94f7-05ad-4d48-8d38-83b0ab9003e1",
   "metadata": {},
   "outputs": [],
   "source": [
    "#Собственно выкачивание файлов из Интернета\n",
    "import requests\n",
    "\n",
    "#Работа с таблицами — понадобится, чтобы хранить наш корпус\n",
    "import pandas as pd\n",
    "\n",
    "# Модуль для работы с фаорматами времени\n",
    "from datetime import datetime, timedelta\n",
    "\n",
    "# Модуль для работы с HTML-файлами\n",
    "from bs4 import BeautifulSoup\n",
    "\n",
    "#Поможет замаскироваться под обычного пользователя в Интернете\n",
    "from fake_useragent import UserAgent \n",
    "\n",
    "#Переменные, нужные, чтобы маскироваться под обычного пользователя Интернета\n",
    "ua = UserAgent(verify_ssl=False)\n",
    "headers = {'User-Agent': ua.random}"
   ]
  },
  {
   "cell_type": "code",
   "execution_count": 11,
   "id": "b904e873-3e0d-4659-8d32-cabf41580d76",
   "metadata": {},
   "outputs": [],
   "source": [
    "dates = []\n",
    "n = 1\n",
    "date_list = [datetime.today() - timedelta(days=x) for x in range(n)]\n",
    "date_list = [f\"{date.year}/{date.month}/{date.day}/\" for date in date_list]"
   ]
  },
  {
   "cell_type": "code",
   "execution_count": 15,
   "id": "2efbd658-6fbe-440f-9d18-2d7a72ffae39",
   "metadata": {},
   "outputs": [
    {
     "data": {
      "text/plain": [
       "['2023/3/24/']"
      ]
     },
     "execution_count": 15,
     "metadata": {},
     "output_type": "execute_result"
    }
   ],
   "source": [
    "date_list"
   ]
  },
  {
   "cell_type": "code",
   "execution_count": 13,
   "id": "6a261cb5-a402-4253-8801-3a41c3fd4a52",
   "metadata": {},
   "outputs": [],
   "source": [
    "all_titles = []\n",
    "all_dates = []\n",
    "all_links = []\n",
    "all_texts = []\n",
    "\n",
    "for date in date_list:\n",
    "    page = f\"https://www.mk.ru/news/{date}\"\n",
    "    result = requests.get(page)\n",
    "    html = result.text\n",
    "    soup = BeautifulSoup(html)\n",
    "    titles = soup.find_all('h3', {'class': \"news-listing__item-title\"})\n",
    "    titles = [x.text.strip() for x in titles]\n",
    "    all_titles.extend(titles)\n",
    "    all_dates.extend([date]*len(titles))\n",
    "    links = soup.find_all('a', {'class': \"news-listing__item-link\"}, href=True)\n",
    "    links = [f\"{link['href']}\" for link in links]\n",
    "    all_links.extend(links)\n",
    "    for link in links:\n",
    "        result = requests.get(link)\n",
    "        html = result.text\n",
    "        soup = BeautifulSoup(html)\n",
    "        page_text = soup.find('div', {'itemprop': \"articleBody\"})\n",
    "        lines = [line.text.strip() for line in page_text.find_all('p')]\n",
    "        all_texts.extend([' '.join(lines).replace('\\xa0', \"\").replace('\\n', ' ')])"
   ]
  },
  {
   "cell_type": "code",
   "execution_count": 14,
   "id": "9892178b-3b37-4684-be6e-348ae9bc9ef8",
   "metadata": {},
   "outputs": [
    {
     "data": {
      "text/html": [
       "<div>\n",
       "<style scoped>\n",
       "    .dataframe tbody tr th:only-of-type {\n",
       "        vertical-align: middle;\n",
       "    }\n",
       "\n",
       "    .dataframe tbody tr th {\n",
       "        vertical-align: top;\n",
       "    }\n",
       "\n",
       "    .dataframe thead th {\n",
       "        text-align: right;\n",
       "    }\n",
       "</style>\n",
       "<table border=\"1\" class=\"dataframe\">\n",
       "  <thead>\n",
       "    <tr style=\"text-align: right;\">\n",
       "      <th></th>\n",
       "      <th>index</th>\n",
       "      <th>date</th>\n",
       "      <th>title</th>\n",
       "      <th>text</th>\n",
       "      <th>link</th>\n",
       "    </tr>\n",
       "  </thead>\n",
       "  <tbody>\n",
       "    <tr>\n",
       "      <th>0</th>\n",
       "      <td>0</td>\n",
       "      <td>2023/3/24/</td>\n",
       "      <td>Прилетевший в Петербург россиянин напал на там...</td>\n",
       "      <td>В петербургском аэропорту Пулково россиянин, к...</td>\n",
       "      <td>https://www.mk.ru/incident/2023/03/24/priletev...</td>\n",
       "    </tr>\n",
       "    <tr>\n",
       "      <th>1</th>\n",
       "      <td>1</td>\n",
       "      <td>2023/3/24/</td>\n",
       "      <td>Росгвардия нашла 200 книг с экстремистским сод...</td>\n",
       "      <td>Пресс-служба Росгвардии сообщила, что сотрудни...</td>\n",
       "      <td>https://www.mk.ru/politics/2023/03/24/rosgvard...</td>\n",
       "    </tr>\n",
       "    <tr>\n",
       "      <th>2</th>\n",
       "      <td>2</td>\n",
       "      <td>2023/3/24/</td>\n",
       "      <td>Times сообщила о патрулировании у «Северных по...</td>\n",
       "      <td>ВМС Дании и Швеции патрулировали район у «Севе...</td>\n",
       "      <td>https://www.mk.ru/politics/2023/03/24/times-so...</td>\n",
       "    </tr>\n",
       "  </tbody>\n",
       "</table>\n",
       "</div>"
      ],
      "text/plain": [
       "   index        date                                              title  \\\n",
       "0      0  2023/3/24/  Прилетевший в Петербург россиянин напал на там...   \n",
       "1      1  2023/3/24/  Росгвардия нашла 200 книг с экстремистским сод...   \n",
       "2      2  2023/3/24/  Times сообщила о патрулировании у «Северных по...   \n",
       "\n",
       "                                                text  \\\n",
       "0  В петербургском аэропорту Пулково россиянин, к...   \n",
       "1  Пресс-служба Росгвардии сообщила, что сотрудни...   \n",
       "2  ВМС Дании и Швеции патрулировали район у «Севе...   \n",
       "\n",
       "                                                link  \n",
       "0  https://www.mk.ru/incident/2023/03/24/priletev...  \n",
       "1  https://www.mk.ru/politics/2023/03/24/rosgvard...  \n",
       "2  https://www.mk.ru/politics/2023/03/24/times-so...  "
      ]
     },
     "execution_count": 14,
     "metadata": {},
     "output_type": "execute_result"
    }
   ],
   "source": [
    "#Создаём индекс, чтобы пронумеровать каждый текст\n",
    "\n",
    "index = [a for a in range(len(all_dates))]\n",
    "\n",
    "#Добавляем в особую табличку тексты. Для этого подаём функции DataFrame словарь\n",
    "corpus = pd.DataFrame({'index': index, 'date': all_dates,\n",
    "                       'title': all_titles, 'text': all_texts,  \n",
    "                       'link': all_links})\n",
    "\n",
    "corpus.head(3)"
   ]
  },
  {
   "cell_type": "code",
   "execution_count": null,
   "id": "7e805cf6-d6c8-41d4-8e6a-0dc7075cc1db",
   "metadata": {},
   "outputs": [],
   "source": []
  },
  {
   "cell_type": "code",
   "execution_count": null,
   "id": "eca1868d-acca-4e10-af76-8de97267ef00",
   "metadata": {},
   "outputs": [],
   "source": []
  },
  {
   "cell_type": "code",
   "execution_count": null,
   "id": "e05c4df6-2d90-4209-8741-a343d956edd3",
   "metadata": {},
   "outputs": [],
   "source": []
  }
 ],
 "metadata": {
  "kernelspec": {
   "display_name": "Python 3 (ipykernel)",
   "language": "python",
   "name": "python3"
  },
  "language_info": {
   "codemirror_mode": {
    "name": "ipython",
    "version": 3
   },
   "file_extension": ".py",
   "mimetype": "text/x-python",
   "name": "python",
   "nbconvert_exporter": "python",
   "pygments_lexer": "ipython3",
   "version": "3.9.12"
  }
 },
 "nbformat": 4,
 "nbformat_minor": 5
}
